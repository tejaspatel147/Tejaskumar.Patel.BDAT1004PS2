{
 "cells": [
  {
   "cell_type": "markdown",
   "metadata": {},
   "source": [
    "# Problem Set 2"
   ]
  },
  {
   "cell_type": "markdown",
   "metadata": {},
   "source": [
    "## Question 1\n",
    "Consider the following Python module:<br>\n",
    "a = 0<br>\n",
    "def b():<br>\n",
    "⋅⋅⋅⋅⋅⋅global a<br>\n",
    "⋅⋅⋅⋅⋅⋅a = c(a)<br>\n",
    "def c(a):<br>\n",
    "⋅⋅⋅⋅⋅⋅return a + 2<br>\n",
    "After importing the module into the interpreter, you execute:<br>\n",
    "->>> b()<br>\n",
    "->>> b()<br>\n",
    "->>> b()<br>\n",
    "->>> a<br>\n",
    "?<br>\n",
    "What value is displayed when the last expression (a) is evaluated? Explain your answer by indicating what happens in every executed statement."
   ]
  },
  {
   "cell_type": "code",
   "execution_count": null,
   "metadata": {},
   "outputs": [],
   "source": [
    "a = 2\n",
    "\n",
    "def b():\n",
    "    global a\n",
    "    a = c(a)\n",
    "\n",
    "def c(a):\n",
    "    return a + 2"
   ]
  },
  {
   "cell_type": "code",
   "execution_count": null,
   "metadata": {},
   "outputs": [],
   "source": [
    "import module\n",
    "\n",
    "module.b()\n",
    "module.b()\n",
    "module.b()\n",
    "\n",
    "\n",
    "print(module.a)"
   ]
  },
  {
   "cell_type": "markdown",
   "metadata": {},
   "source": [
    "Output will be 6\n",
    "\n",
    "First b() def call will use global reference to a then pass that into def c then def c will add 2 to the input value a \n",
    "this will set the value of a to 2 (on the global variable)\n",
    "\n",
    "Second b() def call will use global reference to a then pass that into def c then def c will add 2 to the input value a \n",
    "this will set the value of a to 4 (on the global reference)\n",
    "\n",
    "Third b() def call will use global reference to a then pass that into def c then def c will add 2 to the input value a \n",
    "this will set the value of a to 6 (on the global reference)"
   ]
  },
  {
   "cell_type": "markdown",
   "metadata": {},
   "source": [
    "## Question 2 \n",
    "Function fileLength(), given to you, takes the name of a file as input and returns the length of the file:<br>\n",
    "->> fileLength('midterm.py') <br>\n",
    "284<br>\n",
    "->>> fileLength('idterm.py') <br>\n",
    "Traceback (most recent call last): <br>\n",
    "File \"<pyshell#34>\", line 1, in <module> <br>\n",
    "⋅⋅⋅⋅⋅⋅fileLength('idterm.py') <br>\n",
    "⋅⋅⋅File \"/Users/me/midterm.py\", line 3, in fileLength <br>\n",
    "⋅⋅⋅⋅⋅⋅infile = open(filename) <br>\n",
    "FileNotFoundError: [Errno 2] No such file or directory: 'idterm.py'<br>\n",
    "#### As shown above, if the file cannot be found by the interpreter or if it cannot be read as a text file, an exception will be raised. Modify function fileLength() so that a friendly message is printed instead: <br>\n",
    "    ->>> fileLength('midterm.py') <br>\n",
    "    358 <br>\n",
    "    ->>> fileLength('idterm.py')<br> \n",
    "    File idterm.py not found.<br>"
   ]
  },
  {
   "cell_type": "code",
   "execution_count": 2,
   "metadata": {},
   "outputs": [],
   "source": [
    "import os\n",
    "\n",
    "def fileLength(fileName):\n",
    "    try:        \n",
    "        fileSize = os.stat(fileName).st_size\n",
    "        print(fileSize)\n",
    "    except:\n",
    "        print(\"File {} not found.\".format(fileName))"
   ]
  },
  {
   "cell_type": "code",
   "execution_count": 5,
   "metadata": {},
   "outputs": [
    {
     "name": "stdout",
     "output_type": "stream",
     "text": [
      "4633\n"
     ]
    }
   ],
   "source": [
    "fileLength(\"ProblemSet2.ipynb\")"
   ]
  },
  {
   "cell_type": "code",
   "execution_count": 4,
   "metadata": {},
   "outputs": [
    {
     "name": "stdout",
     "output_type": "stream",
     "text": [
      "File question_not_found.ipynb not found.\n"
     ]
    }
   ],
   "source": [
    "fileLength(\"question_not_found.ipynb\")"
   ]
  },
  {
   "cell_type": "markdown",
   "metadata": {},
   "source": [
    "## Question 3 \n",
    "Write a class named Marsupial that can be used as shown below:<br>\n",
    "->>> m = Marsupial() <br>\n",
    "->>> m.put_in_pouch('doll') <br>\n",
    "->>> m.put_in_pouch('firetruck') <br>\n",
    "->>> m.put_in_pouch('kitten') <br>\n",
    "->>> m.pouch_contents() <br>\n",
    "['doll', 'firetruck', 'kitten']<br>\n",
    "Now write a class named Kangaroo as a subclass of Marsupial that inherits all the attributes of Marsupial and also:<br>\n",
    "a. extends the Marsupial __init__ constructor to take, as input, the coordinates x and y of the Kangaroo object,<br>\n",
    "b. supports method jump that takes number values dx and dy as input and moves the kangaroo by dx units along the x-axis and by dy units along the y-axis, and<br>\n",
    "c. overloads the __str__ operator so it behaves as shown below.<br>\n",
    "->>> k = Kangaroo(0,0) <br>\n",
    "->>> print(k) I am a Kangaroo located at coordinates (0,0) \n",
    "->>> k.put_in_pouch('doll') <br>\n",
    "->>> k.put_in_pouch('firetruck') <br>\n",
    "->>> k.put_in_pouch('kitten') <br>\n",
    "->>> k.pouch_contents() <br>\n",
    "['doll', 'firetruck', 'kitten'] <br>\n",
    "->>> k.jump(1,0) <br>\n",
    "->>> k.jump(1,0) <br>\n",
    "->>> k.jump(1,0) <br>\n",
    "->>> print(k) <br>\n",
    "I am a Kangaroo located at coordinates (3,0)<br>"
   ]
  },
  {
   "cell_type": "code",
   "execution_count": 1,
   "metadata": {},
   "outputs": [
    {
     "name": "stdout",
     "output_type": "stream",
     "text": [
      "['doll', 'firetruck', 'kitten']\n"
     ]
    }
   ],
   "source": [
    "class Marsupial:\n",
    "    def __init__(self):\n",
    "        self.contents  = []\n",
    "    \n",
    "    def put_in_pouch(self, name):     \n",
    "        self.contents.append(name)\n",
    "        \n",
    "    def pouch_contents(self):\n",
    "        print(self.contents)\n",
    "        \n",
    "# Part A\n",
    "m = Marsupial() \n",
    "m.put_in_pouch('doll') \n",
    "m.put_in_pouch('firetruck') \n",
    "m.put_in_pouch('kitten') \n",
    "m.pouch_contents()"
   ]
  },
  {
   "cell_type": "code",
   "execution_count": 2,
   "metadata": {},
   "outputs": [
    {
     "name": "stdout",
     "output_type": "stream",
     "text": [
      "I am a Kangaroo located at coordinates (0,0)\n",
      "['doll', 'firetruck', 'kitten']\n",
      "I am a Kangaroo located at coordinates (3,0)\n"
     ]
    }
   ],
   "source": [
    "class Kangaroo(Marsupial):\n",
    "    def __init__(self, x, y):\n",
    "        super(Kangaroo, self).__init__()\n",
    "        self.x = x;\n",
    "        self.y = y;\n",
    "        \n",
    "    def jump(self, dx, dy):\n",
    "        self.x  = self.x + dx;\n",
    "        self.y  = self.y + dy;\n",
    "     \n",
    "    def __str__(self):\n",
    "        return \"I am a Kangaroo located at coordinates ({},{})\".format(self.x, self.y)\n",
    "     \n",
    "        \n",
    "# Part B\n",
    "k = Kangaroo(0,0)\n",
    "print(k)\n",
    "k.put_in_pouch('doll') \n",
    "k.put_in_pouch('firetruck') \n",
    "k.put_in_pouch('kitten') \n",
    "k.pouch_contents()\n",
    "k.jump(1,0)\n",
    "k.jump(1,0)\n",
    "k.jump(1,0)\n",
    "print(k)"
   ]
  },
  {
   "cell_type": "markdown",
   "metadata": {},
   "source": [
    "## Question 5\n",
    "Write function collatz() that takes a positive integer x as input and prints the Collatz sequence starting at x. A Collatz sequence is obtained by repeatedly applying this rule to the previous number x in the sequence:<br>\n",
    "x = { 𝑥/2 𝑖𝑓 𝑥 𝑖𝑠 𝑒𝑣𝑒𝑛<br>\n",
    "3𝑥+1 𝑖𝑓 𝑥 𝑖𝑠 𝑜𝑑𝑑<br>\n",
    "Your function should stop when the sequence gets to number 1. Your implementation must be recursive, without any loops.<br>\n",
    "->>> collatz(1)<br>\n",
    "1<br>\n",
    "->>> collatz(10)<br>\n",
    "10<br>\n",
    "5<br>\n",
    "16<br>\n",
    "8<br>\n",
    "4<br>\n",
    "2<br>\n",
    "1<br>"
   ]
  },
  {
   "cell_type": "code",
   "execution_count": null,
   "metadata": {},
   "outputs": [],
   "source": [
    "def collatz(x):\n",
    "    print(x)\n",
    "    if x == 1:\n",
    "        return x\n",
    "    if x % 2 == 0:\n",
    "        return collatz(int(x/2))\n",
    "    else:\n",
    "        return collatz(int(3*x + 1))"
   ]
  },
  {
   "cell_type": "code",
   "execution_count": 11,
   "metadata": {},
   "outputs": [
    {
     "name": "stdout",
     "output_type": "stream",
     "text": [
      "collatz(1)\n",
      "1\n"
     ]
    },
    {
     "data": {
      "text/plain": [
       "1"
      ]
     },
     "execution_count": 11,
     "metadata": {},
     "output_type": "execute_result"
    }
   ],
   "source": [
    "print(\"collatz(1)\")\n",
    "collatz(1)"
   ]
  },
  {
   "cell_type": "code",
   "execution_count": 12,
   "metadata": {},
   "outputs": [
    {
     "name": "stdout",
     "output_type": "stream",
     "text": [
      "collatz(10)6\n",
      "10\n",
      "5\n",
      "16\n",
      "8\n",
      "4\n",
      "2\n",
      "1\n"
     ]
    },
    {
     "data": {
      "text/plain": [
       "1"
      ]
     },
     "execution_count": 12,
     "metadata": {},
     "output_type": "execute_result"
    }
   ],
   "source": [
    "print(\"collatz(10)6\")\n",
    "collatz(10)"
   ]
  },
  {
   "cell_type": "markdown",
   "metadata": {},
   "source": [
    "## Question 6 \n",
    "Write a recursive method binary() that takes a non-negative integer n and prints the binary representation of integer n. <br>\n",
    "->>> binary(0) <br>\n",
    "0 <br>\n",
    "->>> binary(1) <br>\n",
    "1 <br>\n",
    "->>> binary(3) <br>\n",
    "11 <br>\n",
    "->>> binary(9)<br>\n",
    "1001<br>"
   ]
  },
  {
   "cell_type": "code",
   "execution_count": 13,
   "metadata": {},
   "outputs": [
    {
     "name": "stdout",
     "output_type": "stream",
     "text": [
      "binary(0)\n",
      "0\n",
      "binary(1)\n",
      "1\n",
      "binary(3)\n",
      "11\n",
      "binary(9)\n",
      "1001\n"
     ]
    }
   ],
   "source": [
    "def binary(n):\n",
    "    if(n <= 0):\n",
    "        return n\n",
    "    else:\n",
    "        return (n % 2 + 10 * binary(int(n / 2)))\n",
    "\n",
    "print(\"binary(0)\")\n",
    "print(binary(0))\n",
    "\n",
    "print(\"binary(1)\")\n",
    "print(binary(1))\n",
    "\n",
    "print(\"binary(3)\")\n",
    "print(binary(3))\n",
    "\n",
    "print(\"binary(9)\")\n",
    "print(binary(9))"
   ]
  },
  {
   "cell_type": "markdown",
   "metadata": {},
   "source": [
    "## Question 7\n",
    "Implement a class named HeadingParser that can be used to parse an HTML document, and retrieve and print all the headings in the document. You should implement your class as a subclass of HTMLParser, defined in Standard Library module html.parser. When fed a string containing HTML code, your class should print the headings, one per line and in the order in which they appear in the document. Each heading should be indented as follows: an h1 heading should have indentation 0, and h2 heading should have indentation 1, etc. Test your implementation using w3c.html.<br>\n",
    "->>> infile = open('w3c.html')<br>\n",
    "->>> content = infile.read()<br>\n",
    "->>> infile.close()<br>\n",
    "->>> hp = HeadingParser()<br>\n",
    "->>> hp.feed(content)<br>\n",
    "W3C Mission<br>\n",
    "Principles<br>"
   ]
  },
  {
   "cell_type": "code",
   "execution_count": 14,
   "metadata": {},
   "outputs": [
    {
     "name": "stdout",
     "output_type": "stream",
     "text": [
      " W3C Mission\n",
      "  Principles\n"
     ]
    }
   ],
   "source": [
    "import html.parser as tp\n",
    "\n",
    "\n",
    "class HeadingParser(tp.HTMLParser):\n",
    "    printThisTag = False\n",
    "    numberOfTabs = 0\n",
    "\n",
    "    def handle_starttag(self, tag, attrs):\n",
    "        if(tag == \"h1\" or tag == \"h2\"):\n",
    "            self.printThisTag = True\n",
    "        if(tag == \"h2\"):\n",
    "            self.numberOfTabs = 1\n",
    "        if(tag == \"h1\"):\n",
    "            self.numberOfTabs = 0\n",
    "\n",
    "    def handle_data(self, data):\n",
    "        if(self.printThisTag == True):\n",
    "            print(\" \" * self.numberOfTabs, data)\n",
    "\n",
    "    def handle_endtag(self, tag):\n",
    "        self.printThisTag = False\n",
    "        self.numberOfTabs = 0\n",
    "\n",
    "\n",
    "infile = open('w3c.txt')\n",
    "content = infile.read()\n",
    "infile.close()\n",
    "hp = HeadingParser()\n",
    "hp.feed(content)"
   ]
  },
  {
   "cell_type": "markdown",
   "metadata": {},
   "source": [
    "## Question 8 \n",
    "Implement recursive function webdir() that takes as input: a URL (as a string) and non-negative integers depth and indent. Your function should visit every web page reachable from the starting URL web page in depth clicks or less, and print each web page's URL. As shown below, indentation, specified by indent, should be used to indicate the depth of a URL.<br>\n",
    "->>> webdir('http://reed.cs.depaul.edu/lperkovic/csc242/test1.html', 2, 0),<br>\n",
    "http://reed.cs.depaul.edu/lperkovic/csc242/test1.html <br>\n",
    "http://reed.cs.depaul.edu/lperkovic/csc242/test2.html<br>\n",
    "http://reed.cs.depaul.edu/lperkovic/csc242/test4.html <br>\n",
    "http://reed.cs.depaul.edu/lperkovic/csc242/test3.html <br>\n",
    "http://reed.cs.depaul.edu/lperkovic/csc242/test4.html<br>"
   ]
  },
  {
   "cell_type": "code",
   "execution_count": null,
   "metadata": {},
   "outputs": [],
   "source": [
    "import urllib.request as r\n",
    "import html.parser as tp\n",
    "\n",
    "class GetHtmlLink(tp.HTMLParser):\n",
    "\n",
    "    def handle_starttag(self, tag, attrs):\n",
    "        if(tag == \"a\" and len(attrs) > 0):\n",
    "            self.links.append(attrs[0][1])\n",
    "\n",
    "def webDir(url, depth, indent):\n",
    "    print(\"  \" * indent, url)\n",
    "    if(depth <= 0):\n",
    "        return\n",
    "\n",
    "    f = r.urlopen(url)\n",
    "    response = f.read()\n",
    "    content = response.decode('utf-8')\n",
    "    f.close()\n",
    "    p = GetHtmlLink()\n",
    "    p.links = []\n",
    "    p.feed(content)\n",
    "\n",
    "    for l in p.links:\n",
    "        webDir(l, depth - 1, indent + 1)\n",
    "\n",
    "webDir('http://reed.cs.depaul.edu/lperkovic/csc242/test1.html', 2, 0)"
   ]
  },
  {
   "cell_type": "markdown",
   "metadata": {},
   "source": [
    "## Question 9\n",
    "Write SQL queries on the below database table that return:<br>\n",
    "a) All the temperature data.<br>\n",
    "b) All the cities, but without repetition.<br>\n",
    "c) All the records for India.<br>\n",
    "d) All the Fall records.<br>\n",
    "e) The city, country, and season for which the average rainfall is between 200 and 400 millimeters.<br>\n",
    "f) The city and country for which the average Fall temperature is above 20 degrees, in increasing temperature order.<br>\n",
    "g) The total annual rainfall for Cairo.<br>\n",
    "h) The total rainfall for each season.<br>"
   ]
  },
  {
   "cell_type": "markdown",
   "metadata": {},
   "source": [
    "\n",
    "-- a)\n",
    "select temperature from dataTable\n",
    "\n",
    "-- b)\n",
    "select distinct city from dataTable\n",
    "\n",
    "-- c)\n",
    "select * from dataTable where country ='India'\n",
    "\n",
    "-- d)\n",
    "select * from dataTable where season = 'Fall'\n",
    "\n",
    "-- e)\n",
    "select city, country, season, avg(rainfall) as average\n",
    "        from dataTable\n",
    "    group by city, country, season\n",
    "        having average between 200 and 400\n",
    "\n",
    "-- f)\n",
    "select city, country, avg(rainfall) average\n",
    "        from dataTable\n",
    "    group by city, country\n",
    "        having average > 20\n",
    "        order by average asc\n",
    "\n",
    "-- g)\n",
    "select sum(rainfall)\n",
    "\tfrom dataTable\n",
    "\twhere city = 'Cairo'\n",
    "\n",
    "-- h)\n",
    "select season, sum(rainfall)\n",
    "\tfrom dataTable\n",
    "\tgroup by season"
   ]
  },
  {
   "cell_type": "markdown",
   "metadata": {},
   "source": [
    "## Question 10\n",
    "Suppose list words is defined as follows:<br>\n",
    "->>> words = ['The', 'quick', 'brown', 'fox', 'jumps', 'over', 'the', 'lazy', 'dog']<br>\n",
    "Write list comprehension expressions that use list words and generate the following lists:<br>\n",
    "a) ['THE', 'QUICK', 'BROWN', 'FOX', 'JUMPS', 'OVER', 'THE', 'LAZY', 'DOG']<br>\n",
    "b) ['the', 'quick', 'brown', 'fox', 'jumps', 'over', 'the', 'lazy', 'dog']<br>\n",
    "c) [3, 5, 5, 3, 5, 4, 3, 4, 3] (the list of lengths of words in list words).<br>\n",
    "d) [['THE', 'the', 3], ['QUICK', 'quick', 5], ['BROWN', 'brown', 5], <br>\n",
    "['FOX', 'fox', 3], ['JUMPS', 'jumps', 5], ['OVER', 'over', 4], <br>\n",
    "['THE', 'the', 3], ['LAZY', 'lazy', 4], ['DOG', 'dog', 3]] <br>\n",
    "(the list containing a list for every word of list words, where each list contains the word in uppercase and lowercase and the length of the word.)<br>\n",
    "e) ['The', 'quick', 'brown', 'fox', 'jumps', 'over', 'the', 'lazy', 'dog'] (the list of words in list words containing 4 or more characters.)<br>"
   ]
  },
  {
   "cell_type": "code",
   "execution_count": 15,
   "metadata": {},
   "outputs": [
    {
     "name": "stdout",
     "output_type": "stream",
     "text": [
      "['THE', 'QUICK', 'BROWN', 'FOX', 'JUMPS', 'OVER', 'THE', 'LAZY', 'DOG']\n"
     ]
    }
   ],
   "source": [
    "words = ['The', 'quick', 'brown', 'fox', 'jumps', 'over', 'the', 'lazy', 'dog']\n",
    "\n",
    "print(list(map(lambda x: x.upper(), words)))"
   ]
  },
  {
   "cell_type": "code",
   "execution_count": 16,
   "metadata": {},
   "outputs": [
    {
     "name": "stdout",
     "output_type": "stream",
     "text": [
      "['the', 'quick', 'brown', 'fox', 'jumps', 'over', 'the', 'lazy', 'dog']\n"
     ]
    }
   ],
   "source": [
    "print(list(map(lambda x: x.lower(), words)))"
   ]
  },
  {
   "cell_type": "code",
   "execution_count": 17,
   "metadata": {},
   "outputs": [
    {
     "name": "stdout",
     "output_type": "stream",
     "text": [
      "[3, 5, 5, 3, 5, 4, 3, 4, 3]\n"
     ]
    }
   ],
   "source": [
    "print(list(map(lambda x: len(x), words)))"
   ]
  },
  {
   "cell_type": "code",
   "execution_count": 18,
   "metadata": {},
   "outputs": [
    {
     "name": "stdout",
     "output_type": "stream",
     "text": [
      "[['THE', 'the', 3], ['QUICK', 'quick', 5], ['BROWN', 'brown', 5], ['FOX', 'fox', 3], ['JUMPS', 'jumps', 5], ['OVER', 'over', 4], ['THE', 'the', 3], ['LAZY', 'lazy', 4], ['DOG', 'dog', 3]]\n"
     ]
    }
   ],
   "source": [
    "print(list(map(lambda x: [x.upper(), x.lower(),len(x)], words)))"
   ]
  },
  {
   "cell_type": "code",
   "execution_count": 19,
   "metadata": {},
   "outputs": [
    {
     "name": "stdout",
     "output_type": "stream",
     "text": [
      "['The', 'quick', 'brown', 'fox', 'jumps', 'over', 'the', 'lazy', 'dog']\n"
     ]
    }
   ],
   "source": [
    "print(list(filter(lambda x: len(x) >= 3, words)))"
   ]
  }
 ],
 "metadata": {
  "kernelspec": {
   "display_name": "Python 3",
   "language": "python",
   "name": "python3"
  },
  "language_info": {
   "codemirror_mode": {
    "name": "ipython",
    "version": 3
   },
   "file_extension": ".py",
   "mimetype": "text/x-python",
   "name": "python",
   "nbconvert_exporter": "python",
   "pygments_lexer": "ipython3",
   "version": "3.7.6"
  }
 },
 "nbformat": 4,
 "nbformat_minor": 4
}
